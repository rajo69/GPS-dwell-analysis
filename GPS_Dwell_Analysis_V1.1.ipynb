{
 "cells": [
  {
   "cell_type": "markdown",
   "id": "340a7a5f",
   "metadata": {},
   "source": [
    "# Importing required dependencies"
   ]
  },
  {
   "cell_type": "code",
   "execution_count": 127,
   "id": "bd9cb4e4",
   "metadata": {},
   "outputs": [],
   "source": [
    "import pandas as pd\n",
    "from datetime import timedelta\n",
    "import math\n",
    "import numpy as np\n",
    "import matplotlib.pyplot as plt\n",
    "import seaborn as sns\n",
    "from sklearn.preprocessing import MinMaxScaler\n",
    "from sklearn.model_selection import train_test_split\n",
    "from sklearn.ensemble import RandomForestRegressor\n",
    "from sklearn.metrics import mean_squared_error\n",
    "from sklearn.preprocessing import StandardScaler\n",
    "from sklearn.tree import DecisionTreeRegressor"
   ]
  },
  {
   "cell_type": "markdown",
   "id": "579a11f9",
   "metadata": {},
   "source": [
    "# Reading the data into data frame"
   ]
  },
  {
   "cell_type": "code",
   "execution_count": 128,
   "id": "ec834011",
   "metadata": {},
   "outputs": [],
   "source": [
    "df = pd.read_csv('https://gps-london.s3.eu-west-2.amazonaws.com/gps.csv')"
   ]
  },
  {
   "cell_type": "code",
   "execution_count": 129,
   "id": "eaca7e0a",
   "metadata": {},
   "outputs": [
    {
     "data": {
      "text/html": [
       "<div>\n",
       "<style scoped>\n",
       "    .dataframe tbody tr th:only-of-type {\n",
       "        vertical-align: middle;\n",
       "    }\n",
       "\n",
       "    .dataframe tbody tr th {\n",
       "        vertical-align: top;\n",
       "    }\n",
       "\n",
       "    .dataframe thead th {\n",
       "        text-align: right;\n",
       "    }\n",
       "</style>\n",
       "<table border=\"1\" class=\"dataframe\">\n",
       "  <thead>\n",
       "    <tr style=\"text-align: right;\">\n",
       "      <th></th>\n",
       "      <th>user_id</th>\n",
       "      <th>datetime</th>\n",
       "      <th>lat</th>\n",
       "      <th>lon</th>\n",
       "    </tr>\n",
       "  </thead>\n",
       "  <tbody>\n",
       "    <tr>\n",
       "      <th>1769996</th>\n",
       "      <td>ff2bc06a-df27-48f8-9177-3a36ef4a8887</td>\n",
       "      <td>2018-01-18 09:59:05+00:00</td>\n",
       "      <td>51.502536</td>\n",
       "      <td>-0.083010</td>\n",
       "    </tr>\n",
       "    <tr>\n",
       "      <th>1769997</th>\n",
       "      <td>ff2bc06a-df27-48f8-9177-3a36ef4a8887</td>\n",
       "      <td>2018-01-18 10:01:39+00:00</td>\n",
       "      <td>51.504117</td>\n",
       "      <td>-0.084738</td>\n",
       "    </tr>\n",
       "    <tr>\n",
       "      <th>1769998</th>\n",
       "      <td>ff2bc06a-df27-48f8-9177-3a36ef4a8887</td>\n",
       "      <td>2018-01-18 10:02:47+00:00</td>\n",
       "      <td>51.504089</td>\n",
       "      <td>-0.084900</td>\n",
       "    </tr>\n",
       "    <tr>\n",
       "      <th>1769999</th>\n",
       "      <td>ff2bc06a-df27-48f8-9177-3a36ef4a8887</td>\n",
       "      <td>2018-01-18 10:03:12+00:00</td>\n",
       "      <td>51.504089</td>\n",
       "      <td>-0.084900</td>\n",
       "    </tr>\n",
       "    <tr>\n",
       "      <th>1770000</th>\n",
       "      <td>ff2bc06a-df27-48f8-9177-3a36ef4a8887</td>\n",
       "      <td>2018-01-18 10:07:48+00:00</td>\n",
       "      <td>51.503869</td>\n",
       "      <td>-0.097309</td>\n",
       "    </tr>\n",
       "    <tr>\n",
       "      <th>1770001</th>\n",
       "      <td>ff2bc06a-df27-48f8-9177-3a36ef4a8887</td>\n",
       "      <td>2018-01-18 10:08:12+00:00</td>\n",
       "      <td>51.503869</td>\n",
       "      <td>-0.097309</td>\n",
       "    </tr>\n",
       "    <tr>\n",
       "      <th>1770002</th>\n",
       "      <td>ff2bc06a-df27-48f8-9177-3a36ef4a8887</td>\n",
       "      <td>2018-01-18 10:08:40+00:00</td>\n",
       "      <td>51.504561</td>\n",
       "      <td>-0.106072</td>\n",
       "    </tr>\n",
       "    <tr>\n",
       "      <th>1770003</th>\n",
       "      <td>ff2bc06a-df27-48f8-9177-3a36ef4a8887</td>\n",
       "      <td>2018-01-18 10:11:45+00:00</td>\n",
       "      <td>51.504208</td>\n",
       "      <td>-0.114535</td>\n",
       "    </tr>\n",
       "    <tr>\n",
       "      <th>1770004</th>\n",
       "      <td>ff2bc06a-df27-48f8-9177-3a36ef4a8887</td>\n",
       "      <td>2018-01-18 10:12:12+00:00</td>\n",
       "      <td>51.504208</td>\n",
       "      <td>-0.114535</td>\n",
       "    </tr>\n",
       "    <tr>\n",
       "      <th>1770005</th>\n",
       "      <td>ff2bc06a-df27-48f8-9177-3a36ef4a8887</td>\n",
       "      <td>2018-01-18 10:12:26+00:00</td>\n",
       "      <td>51.504208</td>\n",
       "      <td>-0.114535</td>\n",
       "    </tr>\n",
       "    <tr>\n",
       "      <th>1770006</th>\n",
       "      <td>ff2bc06a-df27-48f8-9177-3a36ef4a8887</td>\n",
       "      <td>2018-01-18 19:31:19+00:00</td>\n",
       "      <td>51.504983</td>\n",
       "      <td>-0.116347</td>\n",
       "    </tr>\n",
       "    <tr>\n",
       "      <th>1770007</th>\n",
       "      <td>ff2bc06a-df27-48f8-9177-3a36ef4a8887</td>\n",
       "      <td>2018-01-18 19:32:21+00:00</td>\n",
       "      <td>51.504162</td>\n",
       "      <td>-0.108317</td>\n",
       "    </tr>\n",
       "    <tr>\n",
       "      <th>1770008</th>\n",
       "      <td>ff2bc06a-df27-48f8-9177-3a36ef4a8887</td>\n",
       "      <td>2018-01-18 19:34:29+00:00</td>\n",
       "      <td>51.504318</td>\n",
       "      <td>-0.107971</td>\n",
       "    </tr>\n",
       "    <tr>\n",
       "      <th>1770009</th>\n",
       "      <td>ff2bc06a-df27-48f8-9177-3a36ef4a8887</td>\n",
       "      <td>2018-01-18 19:35:34+00:00</td>\n",
       "      <td>51.503990</td>\n",
       "      <td>-0.099953</td>\n",
       "    </tr>\n",
       "    <tr>\n",
       "      <th>1770010</th>\n",
       "      <td>ff2bc06a-df27-48f8-9177-3a36ef4a8887</td>\n",
       "      <td>2018-01-18 19:35:37+00:00</td>\n",
       "      <td>51.503990</td>\n",
       "      <td>-0.099953</td>\n",
       "    </tr>\n",
       "  </tbody>\n",
       "</table>\n",
       "</div>"
      ],
      "text/plain": [
       "                                      user_id                   datetime  \\\n",
       "1769996  ff2bc06a-df27-48f8-9177-3a36ef4a8887  2018-01-18 09:59:05+00:00   \n",
       "1769997  ff2bc06a-df27-48f8-9177-3a36ef4a8887  2018-01-18 10:01:39+00:00   \n",
       "1769998  ff2bc06a-df27-48f8-9177-3a36ef4a8887  2018-01-18 10:02:47+00:00   \n",
       "1769999  ff2bc06a-df27-48f8-9177-3a36ef4a8887  2018-01-18 10:03:12+00:00   \n",
       "1770000  ff2bc06a-df27-48f8-9177-3a36ef4a8887  2018-01-18 10:07:48+00:00   \n",
       "1770001  ff2bc06a-df27-48f8-9177-3a36ef4a8887  2018-01-18 10:08:12+00:00   \n",
       "1770002  ff2bc06a-df27-48f8-9177-3a36ef4a8887  2018-01-18 10:08:40+00:00   \n",
       "1770003  ff2bc06a-df27-48f8-9177-3a36ef4a8887  2018-01-18 10:11:45+00:00   \n",
       "1770004  ff2bc06a-df27-48f8-9177-3a36ef4a8887  2018-01-18 10:12:12+00:00   \n",
       "1770005  ff2bc06a-df27-48f8-9177-3a36ef4a8887  2018-01-18 10:12:26+00:00   \n",
       "1770006  ff2bc06a-df27-48f8-9177-3a36ef4a8887  2018-01-18 19:31:19+00:00   \n",
       "1770007  ff2bc06a-df27-48f8-9177-3a36ef4a8887  2018-01-18 19:32:21+00:00   \n",
       "1770008  ff2bc06a-df27-48f8-9177-3a36ef4a8887  2018-01-18 19:34:29+00:00   \n",
       "1770009  ff2bc06a-df27-48f8-9177-3a36ef4a8887  2018-01-18 19:35:34+00:00   \n",
       "1770010  ff2bc06a-df27-48f8-9177-3a36ef4a8887  2018-01-18 19:35:37+00:00   \n",
       "\n",
       "               lat       lon  \n",
       "1769996  51.502536 -0.083010  \n",
       "1769997  51.504117 -0.084738  \n",
       "1769998  51.504089 -0.084900  \n",
       "1769999  51.504089 -0.084900  \n",
       "1770000  51.503869 -0.097309  \n",
       "1770001  51.503869 -0.097309  \n",
       "1770002  51.504561 -0.106072  \n",
       "1770003  51.504208 -0.114535  \n",
       "1770004  51.504208 -0.114535  \n",
       "1770005  51.504208 -0.114535  \n",
       "1770006  51.504983 -0.116347  \n",
       "1770007  51.504162 -0.108317  \n",
       "1770008  51.504318 -0.107971  \n",
       "1770009  51.503990 -0.099953  \n",
       "1770010  51.503990 -0.099953  "
      ]
     },
     "execution_count": 129,
     "metadata": {},
     "output_type": "execute_result"
    }
   ],
   "source": [
    "df.tail(15)"
   ]
  },
  {
   "cell_type": "markdown",
   "id": "39f5f9e4",
   "metadata": {},
   "source": [
    "# Exploratory analysis"
   ]
  },
  {
   "cell_type": "code",
   "execution_count": 130,
   "id": "855d3bef",
   "metadata": {},
   "outputs": [
    {
     "data": {
      "text/plain": [
       "1770011"
      ]
     },
     "execution_count": 130,
     "metadata": {},
     "output_type": "execute_result"
    }
   ],
   "source": [
    "len(df)"
   ]
  },
  {
   "cell_type": "code",
   "execution_count": 131,
   "id": "3934b9ea",
   "metadata": {},
   "outputs": [],
   "source": [
    "df['datetime'] = pd.to_datetime(df['datetime'])"
   ]
  },
  {
   "cell_type": "code",
   "execution_count": 132,
   "id": "e1281318",
   "metadata": {},
   "outputs": [
    {
     "name": "stdout",
     "output_type": "stream",
     "text": [
      "<class 'pandas.core.frame.DataFrame'>\n",
      "RangeIndex: 1770011 entries, 0 to 1770010\n",
      "Data columns (total 4 columns):\n",
      " #   Column    Dtype              \n",
      "---  ------    -----              \n",
      " 0   user_id   object             \n",
      " 1   datetime  datetime64[ns, UTC]\n",
      " 2   lat       float64            \n",
      " 3   lon       float64            \n",
      "dtypes: datetime64[ns, UTC](1), float64(2), object(1)\n",
      "memory usage: 54.0+ MB\n"
     ]
    }
   ],
   "source": [
    "df.info()"
   ]
  },
  {
   "cell_type": "code",
   "execution_count": 133,
   "id": "657acdc1",
   "metadata": {},
   "outputs": [
    {
     "data": {
      "text/html": [
       "<div>\n",
       "<style scoped>\n",
       "    .dataframe tbody tr th:only-of-type {\n",
       "        vertical-align: middle;\n",
       "    }\n",
       "\n",
       "    .dataframe tbody tr th {\n",
       "        vertical-align: top;\n",
       "    }\n",
       "\n",
       "    .dataframe thead th {\n",
       "        text-align: right;\n",
       "    }\n",
       "</style>\n",
       "<table border=\"1\" class=\"dataframe\">\n",
       "  <thead>\n",
       "    <tr style=\"text-align: right;\">\n",
       "      <th></th>\n",
       "      <th>user_id</th>\n",
       "      <th>datetime</th>\n",
       "      <th>lat</th>\n",
       "      <th>lon</th>\n",
       "    </tr>\n",
       "  </thead>\n",
       "  <tbody>\n",
       "    <tr>\n",
       "      <th>0</th>\n",
       "      <td>False</td>\n",
       "      <td>False</td>\n",
       "      <td>False</td>\n",
       "      <td>False</td>\n",
       "    </tr>\n",
       "    <tr>\n",
       "      <th>1</th>\n",
       "      <td>False</td>\n",
       "      <td>False</td>\n",
       "      <td>False</td>\n",
       "      <td>False</td>\n",
       "    </tr>\n",
       "    <tr>\n",
       "      <th>2</th>\n",
       "      <td>False</td>\n",
       "      <td>False</td>\n",
       "      <td>False</td>\n",
       "      <td>False</td>\n",
       "    </tr>\n",
       "    <tr>\n",
       "      <th>3</th>\n",
       "      <td>False</td>\n",
       "      <td>False</td>\n",
       "      <td>False</td>\n",
       "      <td>False</td>\n",
       "    </tr>\n",
       "    <tr>\n",
       "      <th>4</th>\n",
       "      <td>False</td>\n",
       "      <td>False</td>\n",
       "      <td>False</td>\n",
       "      <td>False</td>\n",
       "    </tr>\n",
       "    <tr>\n",
       "      <th>...</th>\n",
       "      <td>...</td>\n",
       "      <td>...</td>\n",
       "      <td>...</td>\n",
       "      <td>...</td>\n",
       "    </tr>\n",
       "    <tr>\n",
       "      <th>1770006</th>\n",
       "      <td>False</td>\n",
       "      <td>False</td>\n",
       "      <td>False</td>\n",
       "      <td>False</td>\n",
       "    </tr>\n",
       "    <tr>\n",
       "      <th>1770007</th>\n",
       "      <td>False</td>\n",
       "      <td>False</td>\n",
       "      <td>False</td>\n",
       "      <td>False</td>\n",
       "    </tr>\n",
       "    <tr>\n",
       "      <th>1770008</th>\n",
       "      <td>False</td>\n",
       "      <td>False</td>\n",
       "      <td>False</td>\n",
       "      <td>False</td>\n",
       "    </tr>\n",
       "    <tr>\n",
       "      <th>1770009</th>\n",
       "      <td>False</td>\n",
       "      <td>False</td>\n",
       "      <td>False</td>\n",
       "      <td>False</td>\n",
       "    </tr>\n",
       "    <tr>\n",
       "      <th>1770010</th>\n",
       "      <td>False</td>\n",
       "      <td>False</td>\n",
       "      <td>False</td>\n",
       "      <td>False</td>\n",
       "    </tr>\n",
       "  </tbody>\n",
       "</table>\n",
       "<p>1770011 rows × 4 columns</p>\n",
       "</div>"
      ],
      "text/plain": [
       "         user_id  datetime    lat    lon\n",
       "0          False     False  False  False\n",
       "1          False     False  False  False\n",
       "2          False     False  False  False\n",
       "3          False     False  False  False\n",
       "4          False     False  False  False\n",
       "...          ...       ...    ...    ...\n",
       "1770006    False     False  False  False\n",
       "1770007    False     False  False  False\n",
       "1770008    False     False  False  False\n",
       "1770009    False     False  False  False\n",
       "1770010    False     False  False  False\n",
       "\n",
       "[1770011 rows x 4 columns]"
      ]
     },
     "execution_count": 133,
     "metadata": {},
     "output_type": "execute_result"
    }
   ],
   "source": [
    "df.isna()"
   ]
  },
  {
   "cell_type": "code",
   "execution_count": 134,
   "id": "1ec8f562",
   "metadata": {},
   "outputs": [
    {
     "data": {
      "text/html": [
       "<div>\n",
       "<style scoped>\n",
       "    .dataframe tbody tr th:only-of-type {\n",
       "        vertical-align: middle;\n",
       "    }\n",
       "\n",
       "    .dataframe tbody tr th {\n",
       "        vertical-align: top;\n",
       "    }\n",
       "\n",
       "    .dataframe thead th {\n",
       "        text-align: right;\n",
       "    }\n",
       "</style>\n",
       "<table border=\"1\" class=\"dataframe\">\n",
       "  <thead>\n",
       "    <tr style=\"text-align: right;\">\n",
       "      <th></th>\n",
       "      <th>lat</th>\n",
       "      <th>lon</th>\n",
       "    </tr>\n",
       "  </thead>\n",
       "  <tbody>\n",
       "    <tr>\n",
       "      <th>count</th>\n",
       "      <td>1.770011e+06</td>\n",
       "      <td>1.770011e+06</td>\n",
       "    </tr>\n",
       "    <tr>\n",
       "      <th>mean</th>\n",
       "      <td>5.149896e+01</td>\n",
       "      <td>-9.836186e-02</td>\n",
       "    </tr>\n",
       "    <tr>\n",
       "      <th>std</th>\n",
       "      <td>6.002999e-03</td>\n",
       "      <td>1.186196e-02</td>\n",
       "    </tr>\n",
       "    <tr>\n",
       "      <th>min</th>\n",
       "      <td>5.148249e+01</td>\n",
       "      <td>-1.213403e-01</td>\n",
       "    </tr>\n",
       "    <tr>\n",
       "      <th>25%</th>\n",
       "      <td>5.149463e+01</td>\n",
       "      <td>-1.088844e-01</td>\n",
       "    </tr>\n",
       "    <tr>\n",
       "      <th>50%</th>\n",
       "      <td>5.150077e+01</td>\n",
       "      <td>-9.862888e-02</td>\n",
       "    </tr>\n",
       "    <tr>\n",
       "      <th>75%</th>\n",
       "      <td>5.150407e+01</td>\n",
       "      <td>-8.793030e-02</td>\n",
       "    </tr>\n",
       "    <tr>\n",
       "      <th>max</th>\n",
       "      <td>5.150664e+01</td>\n",
       "      <td>-7.640790e-02</td>\n",
       "    </tr>\n",
       "  </tbody>\n",
       "</table>\n",
       "</div>"
      ],
      "text/plain": [
       "                lat           lon\n",
       "count  1.770011e+06  1.770011e+06\n",
       "mean   5.149896e+01 -9.836186e-02\n",
       "std    6.002999e-03  1.186196e-02\n",
       "min    5.148249e+01 -1.213403e-01\n",
       "25%    5.149463e+01 -1.088844e-01\n",
       "50%    5.150077e+01 -9.862888e-02\n",
       "75%    5.150407e+01 -8.793030e-02\n",
       "max    5.150664e+01 -7.640790e-02"
      ]
     },
     "execution_count": 134,
     "metadata": {},
     "output_type": "execute_result"
    }
   ],
   "source": [
    "df.describe()"
   ]
  },
  {
   "cell_type": "code",
   "execution_count": 135,
   "id": "4fa3e74c",
   "metadata": {},
   "outputs": [
    {
     "data": {
      "text/plain": [
       "31606"
      ]
     },
     "execution_count": 135,
     "metadata": {},
     "output_type": "execute_result"
    }
   ],
   "source": [
    "len(df['user_id'].value_counts())"
   ]
  },
  {
   "cell_type": "markdown",
   "id": "9b955a8b",
   "metadata": {},
   "source": [
    "# Distribution of latitude"
   ]
  },
  {
   "cell_type": "code",
   "execution_count": 136,
   "id": "34240f3e",
   "metadata": {},
   "outputs": [
    {
     "data": {
      "image/png": "[encoded data removed]",
      "text/plain": [
       "<Figure size 1000x600 with 1 Axes>"
      ]
     },
     "metadata": {},
     "output_type": "display_data"
    }
   ],
   "source": [
    "plt.figure(figsize=(10, 6))\n",
    "sns.histplot(df['lat'], kde=True)  # `kde` adds a Kernel Density Estimate plot\n",
    "plt.title('Distribution of Latitude data')\n",
    "plt.xlabel('Latitude')\n",
    "plt.ylabel('Frequency')\n",
    "plt.show()"
   ]
  },
  {
   "cell_type": "markdown",
   "id": "70039aa5",
   "metadata": {},
   "source": [
    "# Distribution of longitude"
   ]
  },
  {
   "cell_type": "code",
   "execution_count": 137,
   "id": "283a5b6f",
   "metadata": {},
   "outputs": [
    {
     "data": {
      "image/png": "[encoded data removed]",
      "text/plain": [
       "<Figure size 1000x600 with 1 Axes>"
      ]
     },
     "metadata": {},
     "output_type": "display_data"
    }
   ],
   "source": [
    "plt.figure(figsize=(10, 6))\n",
    "sns.histplot(df['lon'], kde=True)  # `kde` adds a Kernel Density Estimate plot\n",
    "plt.title('Distribution of Longitude data')\n",
    "plt.xlabel('Longitude')\n",
    "plt.ylabel('Frequency')\n",
    "plt.show()"
   ]
  },
  {
   "cell_type": "code",
   "execution_count": 138,
   "id": "b2634eb7",
   "metadata": {},
   "outputs": [
    {
     "data": {
      "text/html": [
       "<div>\n",
       "<style scoped>\n",
       "    .dataframe tbody tr th:only-of-type {\n",
       "        vertical-align: middle;\n",
       "    }\n",
       "\n",
       "    .dataframe tbody tr th {\n",
       "        vertical-align: top;\n",
       "    }\n",
       "\n",
       "    .dataframe thead th {\n",
       "        text-align: right;\n",
       "    }\n",
       "</style>\n",
       "<table border=\"1\" class=\"dataframe\">\n",
       "  <thead>\n",
       "    <tr style=\"text-align: right;\">\n",
       "      <th></th>\n",
       "      <th>user_id</th>\n",
       "      <th>datetime</th>\n",
       "      <th>lat</th>\n",
       "      <th>lon</th>\n",
       "    </tr>\n",
       "  </thead>\n",
       "  <tbody>\n",
       "    <tr>\n",
       "      <th>0</th>\n",
       "      <td>00F70625-4B30-4B4F-A0E3-A5CD9474E34F</td>\n",
       "      <td>2018-01-09 08:49:29+00:00</td>\n",
       "      <td>51.504017</td>\n",
       "      <td>-0.086455</td>\n",
       "    </tr>\n",
       "    <tr>\n",
       "      <th>1</th>\n",
       "      <td>00F70625-4B30-4B4F-A0E3-A5CD9474E34F</td>\n",
       "      <td>2018-01-09 08:52:01+00:00</td>\n",
       "      <td>51.505192</td>\n",
       "      <td>-0.090741</td>\n",
       "    </tr>\n",
       "    <tr>\n",
       "      <th>2</th>\n",
       "      <td>00F70625-4B30-4B4F-A0E3-A5CD9474E34F</td>\n",
       "      <td>2018-01-09 08:52:32+00:00</td>\n",
       "      <td>51.504098</td>\n",
       "      <td>-0.095321</td>\n",
       "    </tr>\n",
       "    <tr>\n",
       "      <th>3</th>\n",
       "      <td>00F70625-4B30-4B4F-A0E3-A5CD9474E34F</td>\n",
       "      <td>2018-01-09 08:55:55+00:00</td>\n",
       "      <td>51.504084</td>\n",
       "      <td>-0.109144</td>\n",
       "    </tr>\n",
       "    <tr>\n",
       "      <th>4</th>\n",
       "      <td>00F70625-4B30-4B4F-A0E3-A5CD9474E34F</td>\n",
       "      <td>2018-01-09 08:58:01+00:00</td>\n",
       "      <td>51.504191</td>\n",
       "      <td>-0.113367</td>\n",
       "    </tr>\n",
       "    <tr>\n",
       "      <th>...</th>\n",
       "      <td>...</td>\n",
       "      <td>...</td>\n",
       "      <td>...</td>\n",
       "      <td>...</td>\n",
       "    </tr>\n",
       "    <tr>\n",
       "      <th>1770006</th>\n",
       "      <td>ff2bc06a-df27-48f8-9177-3a36ef4a8887</td>\n",
       "      <td>2018-01-18 19:31:19+00:00</td>\n",
       "      <td>51.504983</td>\n",
       "      <td>-0.116347</td>\n",
       "    </tr>\n",
       "    <tr>\n",
       "      <th>1770007</th>\n",
       "      <td>ff2bc06a-df27-48f8-9177-3a36ef4a8887</td>\n",
       "      <td>2018-01-18 19:32:21+00:00</td>\n",
       "      <td>51.504162</td>\n",
       "      <td>-0.108317</td>\n",
       "    </tr>\n",
       "    <tr>\n",
       "      <th>1770008</th>\n",
       "      <td>ff2bc06a-df27-48f8-9177-3a36ef4a8887</td>\n",
       "      <td>2018-01-18 19:34:29+00:00</td>\n",
       "      <td>51.504318</td>\n",
       "      <td>-0.107971</td>\n",
       "    </tr>\n",
       "    <tr>\n",
       "      <th>1770009</th>\n",
       "      <td>ff2bc06a-df27-48f8-9177-3a36ef4a8887</td>\n",
       "      <td>2018-01-18 19:35:34+00:00</td>\n",
       "      <td>51.503990</td>\n",
       "      <td>-0.099953</td>\n",
       "    </tr>\n",
       "    <tr>\n",
       "      <th>1770010</th>\n",
       "      <td>ff2bc06a-df27-48f8-9177-3a36ef4a8887</td>\n",
       "      <td>2018-01-18 19:35:37+00:00</td>\n",
       "      <td>51.503990</td>\n",
       "      <td>-0.099953</td>\n",
       "    </tr>\n",
       "  </tbody>\n",
       "</table>\n",
       "<p>1770011 rows × 4 columns</p>\n",
       "</div>"
      ],
      "text/plain": [
       "                                      user_id                  datetime  \\\n",
       "0        00F70625-4B30-4B4F-A0E3-A5CD9474E34F 2018-01-09 08:49:29+00:00   \n",
       "1        00F70625-4B30-4B4F-A0E3-A5CD9474E34F 2018-01-09 08:52:01+00:00   \n",
       "2        00F70625-4B30-4B4F-A0E3-A5CD9474E34F 2018-01-09 08:52:32+00:00   \n",
       "3        00F70625-4B30-4B4F-A0E3-A5CD9474E34F 2018-01-09 08:55:55+00:00   \n",
       "4        00F70625-4B30-4B4F-A0E3-A5CD9474E34F 2018-01-09 08:58:01+00:00   \n",
       "...                                       ...                       ...   \n",
       "1770006  ff2bc06a-df27-48f8-9177-3a36ef4a8887 2018-01-18 19:31:19+00:00   \n",
       "1770007  ff2bc06a-df27-48f8-9177-3a36ef4a8887 2018-01-18 19:32:21+00:00   \n",
       "1770008  ff2bc06a-df27-48f8-9177-3a36ef4a8887 2018-01-18 19:34:29+00:00   \n",
       "1770009  ff2bc06a-df27-48f8-9177-3a36ef4a8887 2018-01-18 19:35:34+00:00   \n",
       "1770010  ff2bc06a-df27-48f8-9177-3a36ef4a8887 2018-01-18 19:35:37+00:00   \n",
       "\n",
       "               lat       lon  \n",
       "0        51.504017 -0.086455  \n",
       "1        51.505192 -0.090741  \n",
       "2        51.504098 -0.095321  \n",
       "3        51.504084 -0.109144  \n",
       "4        51.504191 -0.113367  \n",
       "...            ...       ...  \n",
       "1770006  51.504983 -0.116347  \n",
       "1770007  51.504162 -0.108317  \n",
       "1770008  51.504318 -0.107971  \n",
       "1770009  51.503990 -0.099953  \n",
       "1770010  51.503990 -0.099953  \n",
       "\n",
       "[1770011 rows x 4 columns]"
      ]
     },
     "execution_count": 138,
     "metadata": {},
     "output_type": "execute_result"
    }
   ],
   "source": [
    "df"
   ]
  },
  {
   "cell_type": "markdown",
   "id": "5a754891",
   "metadata": {},
   "source": [
    "# Extracting features like day, hours and seconds from datetime"
   ]
  },
  {
   "cell_type": "code",
   "execution_count": 140,
   "id": "8aa9b7e1",
   "metadata": {},
   "outputs": [],
   "source": [
    "# Extracting features from date time\n",
    "df['day'] = df['datetime'].dt.day\n",
    "df['hour'] = df['datetime'].dt.hour\n",
    "df['minute'] = df['datetime'].dt.minute\n",
    "df['second'] = df['datetime'].dt.second"
   ]
  },
  {
   "cell_type": "code",
   "execution_count": 141,
   "id": "69e6af8d",
   "metadata": {},
   "outputs": [
    {
     "data": {
      "text/html": [
       "<div>\n",
       "<style scoped>\n",
       "    .dataframe tbody tr th:only-of-type {\n",
       "        vertical-align: middle;\n",
       "    }\n",
       "\n",
       "    .dataframe tbody tr th {\n",
       "        vertical-align: top;\n",
       "    }\n",
       "\n",
       "    .dataframe thead th {\n",
       "        text-align: right;\n",
       "    }\n",
       "</style>\n",
       "<table border=\"1\" class=\"dataframe\">\n",
       "  <thead>\n",
       "    <tr style=\"text-align: right;\">\n",
       "      <th></th>\n",
       "      <th>user_id</th>\n",
       "      <th>datetime</th>\n",
       "      <th>lat</th>\n",
       "      <th>lon</th>\n",
       "      <th>day</th>\n",
       "      <th>hour</th>\n",
       "      <th>minute</th>\n",
       "      <th>second</th>\n",
       "    </tr>\n",
       "  </thead>\n",
       "  <tbody>\n",
       "    <tr>\n",
       "      <th>0</th>\n",
       "      <td>00F70625-4B30-4B4F-A0E3-A5CD9474E34F</td>\n",
       "      <td>2018-01-09 08:49:29+00:00</td>\n",
       "      <td>51.504017</td>\n",
       "      <td>-0.086455</td>\n",
       "      <td>9</td>\n",
       "      <td>8</td>\n",
       "      <td>49</td>\n",
       "      <td>29</td>\n",
       "    </tr>\n",
       "    <tr>\n",
       "      <th>1</th>\n",
       "      <td>00F70625-4B30-4B4F-A0E3-A5CD9474E34F</td>\n",
       "      <td>2018-01-09 08:52:01+00:00</td>\n",
       "      <td>51.505192</td>\n",
       "      <td>-0.090741</td>\n",
       "      <td>9</td>\n",
       "      <td>8</td>\n",
       "      <td>52</td>\n",
       "      <td>1</td>\n",
       "    </tr>\n",
       "    <tr>\n",
       "      <th>2</th>\n",
       "      <td>00F70625-4B30-4B4F-A0E3-A5CD9474E34F</td>\n",
       "      <td>2018-01-09 08:52:32+00:00</td>\n",
       "      <td>51.504098</td>\n",
       "      <td>-0.095321</td>\n",
       "      <td>9</td>\n",
       "      <td>8</td>\n",
       "      <td>52</td>\n",
       "      <td>32</td>\n",
       "    </tr>\n",
       "    <tr>\n",
       "      <th>3</th>\n",
       "      <td>00F70625-4B30-4B4F-A0E3-A5CD9474E34F</td>\n",
       "      <td>2018-01-09 08:55:55+00:00</td>\n",
       "      <td>51.504084</td>\n",
       "      <td>-0.109144</td>\n",
       "      <td>9</td>\n",
       "      <td>8</td>\n",
       "      <td>55</td>\n",
       "      <td>55</td>\n",
       "    </tr>\n",
       "    <tr>\n",
       "      <th>4</th>\n",
       "      <td>00F70625-4B30-4B4F-A0E3-A5CD9474E34F</td>\n",
       "      <td>2018-01-09 08:58:01+00:00</td>\n",
       "      <td>51.504191</td>\n",
       "      <td>-0.113367</td>\n",
       "      <td>9</td>\n",
       "      <td>8</td>\n",
       "      <td>58</td>\n",
       "      <td>1</td>\n",
       "    </tr>\n",
       "    <tr>\n",
       "      <th>...</th>\n",
       "      <td>...</td>\n",
       "      <td>...</td>\n",
       "      <td>...</td>\n",
       "      <td>...</td>\n",
       "      <td>...</td>\n",
       "      <td>...</td>\n",
       "      <td>...</td>\n",
       "      <td>...</td>\n",
       "    </tr>\n",
       "    <tr>\n",
       "      <th>1770006</th>\n",
       "      <td>ff2bc06a-df27-48f8-9177-3a36ef4a8887</td>\n",
       "      <td>2018-01-18 19:31:19+00:00</td>\n",
       "      <td>51.504983</td>\n",
       "      <td>-0.116347</td>\n",
       "      <td>18</td>\n",
       "      <td>19</td>\n",
       "      <td>31</td>\n",
       "      <td>19</td>\n",
       "    </tr>\n",
       "    <tr>\n",
       "      <th>1770007</th>\n",
       "      <td>ff2bc06a-df27-48f8-9177-3a36ef4a8887</td>\n",
       "      <td>2018-01-18 19:32:21+00:00</td>\n",
       "      <td>51.504162</td>\n",
       "      <td>-0.108317</td>\n",
       "      <td>18</td>\n",
       "      <td>19</td>\n",
       "      <td>32</td>\n",
       "      <td>21</td>\n",
       "    </tr>\n",
       "    <tr>\n",
       "      <th>1770008</th>\n",
       "      <td>ff2bc06a-df27-48f8-9177-3a36ef4a8887</td>\n",
       "      <td>2018-01-18 19:34:29+00:00</td>\n",
       "      <td>51.504318</td>\n",
       "      <td>-0.107971</td>\n",
       "      <td>18</td>\n",
       "      <td>19</td>\n",
       "      <td>34</td>\n",
       "      <td>29</td>\n",
       "    </tr>\n",
       "    <tr>\n",
       "      <th>1770009</th>\n",
       "      <td>ff2bc06a-df27-48f8-9177-3a36ef4a8887</td>\n",
       "      <td>2018-01-18 19:35:34+00:00</td>\n",
       "      <td>51.503990</td>\n",
       "      <td>-0.099953</td>\n",
       "      <td>18</td>\n",
       "      <td>19</td>\n",
       "      <td>35</td>\n",
       "      <td>34</td>\n",
       "    </tr>\n",
       "    <tr>\n",
       "      <th>1770010</th>\n",
       "      <td>ff2bc06a-df27-48f8-9177-3a36ef4a8887</td>\n",
       "      <td>2018-01-18 19:35:37+00:00</td>\n",
       "      <td>51.503990</td>\n",
       "      <td>-0.099953</td>\n",
       "      <td>18</td>\n",
       "      <td>19</td>\n",
       "      <td>35</td>\n",
       "      <td>37</td>\n",
       "    </tr>\n",
       "  </tbody>\n",
       "</table>\n",
       "<p>1770011 rows × 8 columns</p>\n",
       "</div>"
      ],
      "text/plain": [
       "                                      user_id                  datetime  \\\n",
       "0        00F70625-4B30-4B4F-A0E3-A5CD9474E34F 2018-01-09 08:49:29+00:00   \n",
       "1        00F70625-4B30-4B4F-A0E3-A5CD9474E34F 2018-01-09 08:52:01+00:00   \n",
       "2        00F70625-4B30-4B4F-A0E3-A5CD9474E34F 2018-01-09 08:52:32+00:00   \n",
       "3        00F70625-4B30-4B4F-A0E3-A5CD9474E34F 2018-01-09 08:55:55+00:00   \n",
       "4        00F70625-4B30-4B4F-A0E3-A5CD9474E34F 2018-01-09 08:58:01+00:00   \n",
       "...                                       ...                       ...   \n",
       "1770006  ff2bc06a-df27-48f8-9177-3a36ef4a8887 2018-01-18 19:31:19+00:00   \n",
       "1770007  ff2bc06a-df27-48f8-9177-3a36ef4a8887 2018-01-18 19:32:21+00:00   \n",
       "1770008  ff2bc06a-df27-48f8-9177-3a36ef4a8887 2018-01-18 19:34:29+00:00   \n",
       "1770009  ff2bc06a-df27-48f8-9177-3a36ef4a8887 2018-01-18 19:35:34+00:00   \n",
       "1770010  ff2bc06a-df27-48f8-9177-3a36ef4a8887 2018-01-18 19:35:37+00:00   \n",
       "\n",
       "               lat       lon  day  hour  minute  second  \n",
       "0        51.504017 -0.086455    9     8      49      29  \n",
       "1        51.505192 -0.090741    9     8      52       1  \n",
       "2        51.504098 -0.095321    9     8      52      32  \n",
       "3        51.504084 -0.109144    9     8      55      55  \n",
       "4        51.504191 -0.113367    9     8      58       1  \n",
       "...            ...       ...  ...   ...     ...     ...  \n",
       "1770006  51.504983 -0.116347   18    19      31      19  \n",
       "1770007  51.504162 -0.108317   18    19      32      21  \n",
       "1770008  51.504318 -0.107971   18    19      34      29  \n",
       "1770009  51.503990 -0.099953   18    19      35      34  \n",
       "1770010  51.503990 -0.099953   18    19      35      37  \n",
       "\n",
       "[1770011 rows x 8 columns]"
      ]
     },
     "execution_count": 141,
     "metadata": {},
     "output_type": "execute_result"
    }
   ],
   "source": [
    "df"
   ]
  },
  {
   "cell_type": "code",
   "execution_count": 142,
   "id": "5e8f3312",
   "metadata": {},
   "outputs": [
    {
     "data": {
      "text/plain": [
       "11    189839\n",
       "10    185832\n",
       "18    184309\n",
       "17    182964\n",
       "16    181855\n",
       "9     178371\n",
       "12    176933\n",
       "19    173990\n",
       "15    164899\n",
       "8     151019\n",
       "Name: day, dtype: int64"
      ]
     },
     "execution_count": 142,
     "metadata": {},
     "output_type": "execute_result"
    }
   ],
   "source": [
    "df['day'].value_counts()"
   ]
  },
  {
   "cell_type": "markdown",
   "id": "97d87a98",
   "metadata": {},
   "source": [
    "# Distribution of days"
   ]
  },
  {
   "cell_type": "code",
   "execution_count": 143,
   "id": "29209001",
   "metadata": {},
   "outputs": [
    {
     "data": {
      "image/png": "[encoded data removed]",
      "text/plain": [
       "<Figure size 1000x600 with 1 Axes>"
      ]
     },
     "metadata": {},
     "output_type": "display_data"
    }
   ],
   "source": [
    "plt.figure(figsize=(10, 6))\n",
    "sns.histplot(df['day'], kde=True)  # `kde` adds a Kernel Density Estimate plot\n",
    "plt.title('Distribution of days')\n",
    "plt.xlabel('Days')\n",
    "plt.ylabel('Frequency')\n",
    "plt.show()"
   ]
  },
  {
   "cell_type": "markdown",
   "id": "49097756",
   "metadata": {},
   "source": [
    "# Distribution of hours"
   ]
  },
  {
   "cell_type": "code",
   "execution_count": 144,
   "id": "83795f48",
   "metadata": {},
   "outputs": [
    {
     "data": {
      "image/png": "[encoded data removed]",
      "text/plain": [
       "<Figure size 1000x600 with 1 Axes>"
      ]
     },
     "metadata": {},
     "output_type": "display_data"
    }
   ],
   "source": [
    "plt.figure(figsize=(10, 6))\n",
    "sns.histplot(df['hour'], kde=True)  # `kde` adds a Kernel Density Estimate plot\n",
    "plt.title('Distribution of hours')\n",
    "plt.xlabel('Hours')\n",
    "plt.ylabel('Frequency')\n",
    "plt.show()"
   ]
  },
  {
   "cell_type": "markdown",
   "id": "efe9e975",
   "metadata": {},
   "source": [
    "# Calculating distance between two latitude & longitude pairs"
   ]
  },
  {
   "cell_type": "code",
   "execution_count": 145,
   "id": "a2d80d8d",
   "metadata": {},
   "outputs": [],
   "source": [
    "def haversine(lat1, lon1, lat2, lon2):\n",
    "    \n",
    "    # Radius of the Earth in kilometers\n",
    "    R = 6371.0\n",
    "    \n",
    "    # Convert latitude and longitude from degrees to radians\n",
    "    lat1_rad = math.radians(lat1)\n",
    "    lon1_rad = math.radians(lon1)\n",
    "    lat2_rad = math.radians(lat2)\n",
    "    lon2_rad = math.radians(lon2)\n",
    "    \n",
    "    # Difference in coordinates\n",
    "    dlat = lat2_rad - lat1_rad\n",
    "    dlon = lon2_rad - lon1_rad\n",
    "    \n",
    "    # Haversine formula\n",
    "    a = math.sin(dlat / 2)**2 + math.cos(lat1_rad) * math.cos(lat2_rad) * math.sin(dlon / 2)**2\n",
    "    c = 2 * math.atan2(math.sqrt(a), math.sqrt(1 - a))\n",
    "    distance = R * c\n",
    "    \n",
    "    #Converting unit from kilometers to meters\n",
    "    distance = distance*1000\n",
    "    \n",
    "    return distance"
   ]
  },
  {
   "cell_type": "code",
   "execution_count": 146,
   "id": "2bbca855",
   "metadata": {},
   "outputs": [],
   "source": [
    "# Define minimum duration and spatial threshold\n",
    "min_duration = timedelta(minutes=5)  # 15 minutes in seconds\n",
    "spatial_threshold = 10  # meters"
   ]
  },
  {
   "cell_type": "code",
   "execution_count": 147,
   "id": "12ed909d",
   "metadata": {},
   "outputs": [],
   "source": [
    "# Sort data and group by user\n",
    "df = df.sort_values(by=[\"user_id\", \"datetime\"])\n",
    "grouped_data = df.groupby(\"user_id\")"
   ]
  },
  {
   "cell_type": "markdown",
   "id": "dd239926",
   "metadata": {},
   "source": [
    "# Calculating indivudual dwells based on time and distance conditions"
   ]
  },
  {
   "cell_type": "markdown",
   "id": "b3ffdc83",
   "metadata": {},
   "source": [
    "NOTE: The 'identify_dwells()' function is taking some time for calculation and is having O(n) time complexity hence room for improvement to O(lon(n))"
   ]
  },
  {
   "cell_type": "code",
   "execution_count": 148,
   "id": "5c4bdc74",
   "metadata": {},
   "outputs": [],
   "source": [
    "# Function to identify dwells for each user\n",
    "def identify_dwells(group):\n",
    "    dwells = []\n",
    "    dwell_start = group[\"datetime\"].iloc[0]\n",
    "    for i in range(1, len(group)):\n",
    "        prev_time = group[\"datetime\"].iloc[i-1]\n",
    "        curr_time = group[\"datetime\"].iloc[i]\n",
    "        time_diff = curr_time - prev_time\n",
    "        if (time_diff < min_duration) and (haversine(group[\"lat\"].iloc[i], group[\"lon\"].iloc[i], group[\"lat\"].iloc[i-1], group[\"lon\"].iloc[i-1])) > spatial_threshold:\n",
    "            continue\n",
    "        elif (time_diff >= min_duration) or (haversine(group[\"lat\"].iloc[i], group[\"lon\"].iloc[i], group[\"lat\"].iloc[i-1], group[\"lon\"].iloc[i-1])) > spatial_threshold:\n",
    "            dwells.append({\n",
    "                \"user_id\": group[\"user_id\"].iloc[0],\n",
    "                \"datetime\": dwell_start,\n",
    "                \"lat\": group[\"lat\"].iloc[i-1],\n",
    "                \"lon\": group[\"lon\"].iloc[i-1],\n",
    "                \"duration\": time_diff.total_seconds(),\n",
    "            })\n",
    "            dwell_start = curr_time\n",
    "    return dwells"
   ]
  },
  {
   "cell_type": "markdown",
   "id": "b55a887e",
   "metadata": {},
   "source": [
    "# Preparing data to predict using RandomForestRegressor"
   ]
  },
  {
   "cell_type": "code",
   "execution_count": 156,
   "id": "d3f12644",
   "metadata": {},
   "outputs": [],
   "source": [
    "# Function to prepare dataset, train Random Forest Regressor model and calculate accuracy metric for either predicting latitude or longitude\n",
    "def rfr_metric( latlon ) :\n",
    "    \n",
    "    if latlon == 'lat' or latlon == 'lon':\n",
    "        X = df[['day', 'hour', 'minute', 'second']]  # Features\n",
    "        y = df[latlon]  # Target\n",
    "\n",
    "        # Initialize the MinMaxScaler\n",
    "        scaler = MinMaxScaler()\n",
    "\n",
    "        # Fit the scaler to your data and then transform it\n",
    "        norm_X = scaler.fit_transform(X)\n",
    "\n",
    "        # The result is a NumPy array.Convert it back to a DataFrame.\n",
    "        X = pd.DataFrame(norm_X, columns=X.columns)\n",
    "\n",
    "        # Splitting the dataset\n",
    "        X_train, X_test, y_train, y_test = train_test_split(X, y, test_size=0.2, random_state=42)\n",
    "\n",
    "        # Feature scaling\n",
    "        scaler = StandardScaler()\n",
    "        X_train_scaled = scaler.fit_transform(X_train)\n",
    "        X_test_scaled = scaler.transform(X_test)\n",
    "            \n",
    "        # Model training\n",
    "        model = RandomForestRegressor()\n",
    "        model.fit(X_train_scaled, y_train)\n",
    "    \n",
    "        # Prediction and evaluation\n",
    "        predictions = model.predict(X_test_scaled)\n",
    "        mse = mean_squared_error(y_test, predictions)\n",
    "        rmse = mse ** 0.5\n",
    "\n",
    "        print(f'RMSE: {rmse}')\n",
    "    else:\n",
    "        print('wrong input.')"
   ]
  },
  {
   "cell_type": "markdown",
   "id": "a564fd90",
   "metadata": {},
   "source": [
    "# Preparing data to predict using DecisionTreeRegressor¶"
   ]
  },
  {
   "cell_type": "code",
   "execution_count": 157,
   "id": "82379540",
   "metadata": {},
   "outputs": [],
   "source": [
    "# Function to prepare dataset, train Decision Tree Regressor model and calculate accuracy metric for either predicting latitude or longitude\n",
    "def dtr_metric( latlon ) :\n",
    "    \n",
    "    if latlon == 'lat' or latlon == 'lon':\n",
    "        X = df[['day', 'hour', 'minute', 'second']]  # Features\n",
    "        y = df[latlon]  # Target\n",
    "\n",
    "        # Initialize the MinMaxScaler\n",
    "        scaler = MinMaxScaler()\n",
    "\n",
    "        # Fit the scaler to your data and then transform it\n",
    "        norm_X = scaler.fit_transform(X)\n",
    "\n",
    "        # The result is a NumPy array.Convert it back to a DataFrame.\n",
    "        X = pd.DataFrame(norm_X, columns=X.columns)\n",
    "\n",
    "        # Splitting the dataset\n",
    "        X_train, X_test, y_train, y_test = train_test_split(X, y, test_size=0.2, random_state=42)\n",
    "\n",
    "        # Feature scaling\n",
    "        scaler = StandardScaler()\n",
    "        X_train_scaled = scaler.fit_transform(X_train)\n",
    "        X_test_scaled = scaler.transform(X_test)\n",
    "            \n",
    "        # Model training\n",
    "        model = DecisionTreeRegressor(random_state=42)\n",
    "        model.fit(X_train_scaled, y_train)\n",
    "    \n",
    "        # Prediction and evaluation\n",
    "        predictions = model.predict(X_test_scaled)\n",
    "        mse = mean_squared_error(y_test, predictions)\n",
    "        rmse = mse ** 0.5\n",
    "\n",
    "        print(f'RMSE: {rmse}')\n",
    "    else:\n",
    "        print('wrong input.')"
   ]
  },
  {
   "cell_type": "markdown",
   "id": "4087eeca",
   "metadata": {},
   "source": [
    "# RMSE of Latitude using RandomForestRegressor"
   ]
  },
  {
   "cell_type": "code",
   "execution_count": 158,
   "id": "4a2cd18d",
   "metadata": {},
   "outputs": [
    {
     "name": "stdout",
     "output_type": "stream",
     "text": [
      "RMSE: 0.006748870129019505\n"
     ]
    }
   ],
   "source": [
    "rfr_metric('lat')"
   ]
  },
  {
   "cell_type": "markdown",
   "id": "b7e68660",
   "metadata": {},
   "source": [
    "# RMSE of Longitude using RandomForestRegressor"
   ]
  },
  {
   "cell_type": "code",
   "execution_count": 159,
   "id": "349de8b3",
   "metadata": {},
   "outputs": [
    {
     "name": "stdout",
     "output_type": "stream",
     "text": [
      "RMSE: 0.013383547232938777\n"
     ]
    }
   ],
   "source": [
    "rfr_metric('lon')"
   ]
  },
  {
   "cell_type": "markdown",
   "id": "065496b9",
   "metadata": {},
   "source": [
    "# RMSE of Latitude using DecisionTreeRegressor¶"
   ]
  },
  {
   "cell_type": "code",
   "execution_count": 160,
   "id": "7e979cf7",
   "metadata": {},
   "outputs": [
    {
     "name": "stdout",
     "output_type": "stream",
     "text": [
      "RMSE: 0.00735561453980923\n"
     ]
    }
   ],
   "source": [
    "dtr_metric('lat')"
   ]
  },
  {
   "cell_type": "markdown",
   "id": "a65630e3",
   "metadata": {},
   "source": [
    "# RMSE of Longitude using DecisionTreeRegressor"
   ]
  },
  {
   "cell_type": "code",
   "execution_count": 161,
   "id": "2634e908",
   "metadata": {},
   "outputs": [
    {
     "name": "stdout",
     "output_type": "stream",
     "text": [
      "RMSE: 0.014570852347996632\n"
     ]
    }
   ],
   "source": [
    "dtr_metric('lon')"
   ]
  },
  {
   "cell_type": "markdown",
   "id": "7a04a9d8",
   "metadata": {},
   "source": [
    "# Dwell data analysis"
   ]
  },
  {
   "cell_type": "code",
   "execution_count": 162,
   "id": "606cc5ac",
   "metadata": {},
   "outputs": [],
   "source": [
    "# Applying the function to each user group and storing results\n",
    "dwell_data = []\n",
    "for name, group in grouped_data:\n",
    "    dwell_data.extend(identify_dwells(group.copy()))\n",
    "\n",
    "# Final dwell data as a dataframe\n",
    "dwell_df = pd.DataFrame(dwell_data)"
   ]
  },
  {
   "cell_type": "code",
   "execution_count": 163,
   "id": "32167400",
   "metadata": {},
   "outputs": [
    {
     "data": {
      "text/plain": [
       "425450"
      ]
     },
     "execution_count": 163,
     "metadata": {},
     "output_type": "execute_result"
    }
   ],
   "source": [
    "len(dwell_df)"
   ]
  },
  {
   "cell_type": "code",
   "execution_count": 164,
   "id": "624d5f6c",
   "metadata": {},
   "outputs": [
    {
     "data": {
      "text/html": [
       "<div>\n",
       "<style scoped>\n",
       "    .dataframe tbody tr th:only-of-type {\n",
       "        vertical-align: middle;\n",
       "    }\n",
       "\n",
       "    .dataframe tbody tr th {\n",
       "        vertical-align: top;\n",
       "    }\n",
       "\n",
       "    .dataframe thead th {\n",
       "        text-align: right;\n",
       "    }\n",
       "</style>\n",
       "<table border=\"1\" class=\"dataframe\">\n",
       "  <thead>\n",
       "    <tr style=\"text-align: right;\">\n",
       "      <th></th>\n",
       "      <th>user_id</th>\n",
       "      <th>datetime</th>\n",
       "      <th>lat</th>\n",
       "      <th>lon</th>\n",
       "      <th>duration</th>\n",
       "    </tr>\n",
       "  </thead>\n",
       "  <tbody>\n",
       "    <tr>\n",
       "      <th>236344</th>\n",
       "      <td>8FEC37F2-1D02-4FF8-B2E5-00C5A599A73C</td>\n",
       "      <td>2018-01-10 06:30:02+00:00</td>\n",
       "      <td>51.502245</td>\n",
       "      <td>-0.112207</td>\n",
       "      <td>300.0</td>\n",
       "    </tr>\n",
       "    <tr>\n",
       "      <th>190956</th>\n",
       "      <td>734182BD-6489-474E-8A28-51962DBADCA2</td>\n",
       "      <td>2018-01-16 20:53:23+00:00</td>\n",
       "      <td>51.487955</td>\n",
       "      <td>-0.076645</td>\n",
       "      <td>300.0</td>\n",
       "    </tr>\n",
       "    <tr>\n",
       "      <th>356304</th>\n",
       "      <td>E4F51109-78AA-4A19-A7A3-404FBC45B160</td>\n",
       "      <td>2018-01-17 08:14:22+00:00</td>\n",
       "      <td>51.493157</td>\n",
       "      <td>-0.100828</td>\n",
       "      <td>300.0</td>\n",
       "    </tr>\n",
       "    <tr>\n",
       "      <th>356303</th>\n",
       "      <td>E4F51109-78AA-4A19-A7A3-404FBC45B160</td>\n",
       "      <td>2018-01-17 08:09:22+00:00</td>\n",
       "      <td>51.503586</td>\n",
       "      <td>-0.105272</td>\n",
       "      <td>300.0</td>\n",
       "    </tr>\n",
       "    <tr>\n",
       "      <th>190949</th>\n",
       "      <td>734182BD-6489-474E-8A28-51962DBADCA2</td>\n",
       "      <td>2018-01-16 16:15:01+00:00</td>\n",
       "      <td>51.490133</td>\n",
       "      <td>-0.111199</td>\n",
       "      <td>300.0</td>\n",
       "    </tr>\n",
       "    <tr>\n",
       "      <th>...</th>\n",
       "      <td>...</td>\n",
       "      <td>...</td>\n",
       "      <td>...</td>\n",
       "      <td>...</td>\n",
       "      <td>...</td>\n",
       "    </tr>\n",
       "    <tr>\n",
       "      <th>420451</th>\n",
       "      <td>f0a8244b-ecf8-4a9a-94b1-fd049ada1a9a</td>\n",
       "      <td>2018-01-08 15:28:34+00:00</td>\n",
       "      <td>51.505303</td>\n",
       "      <td>-0.089131</td>\n",
       "      <td>972946.0</td>\n",
       "    </tr>\n",
       "    <tr>\n",
       "      <th>98044</th>\n",
       "      <td>39d148db-6f50-4cbc-89be-f261e433b22d</td>\n",
       "      <td>2018-01-08 13:24:19+00:00</td>\n",
       "      <td>51.500416</td>\n",
       "      <td>-0.077395</td>\n",
       "      <td>976269.0</td>\n",
       "    </tr>\n",
       "    <tr>\n",
       "      <th>87421</th>\n",
       "      <td>33fe76d3-9231-4dd7-859b-a2a7c22b99bc</td>\n",
       "      <td>2018-01-08 07:14:57+00:00</td>\n",
       "      <td>51.503871</td>\n",
       "      <td>-0.085641</td>\n",
       "      <td>992200.0</td>\n",
       "    </tr>\n",
       "    <tr>\n",
       "      <th>262041</th>\n",
       "      <td>9F5AE33D-664A-4029-B244-4C46135BA4FD</td>\n",
       "      <td>2018-01-08 03:40:29+00:00</td>\n",
       "      <td>51.506220</td>\n",
       "      <td>-0.114815</td>\n",
       "      <td>994402.0</td>\n",
       "    </tr>\n",
       "    <tr>\n",
       "      <th>241821</th>\n",
       "      <td>921954D0-D14C-43C7-957B-76B831F22322</td>\n",
       "      <td>2018-01-08 05:21:11+00:00</td>\n",
       "      <td>51.504437</td>\n",
       "      <td>-0.113565</td>\n",
       "      <td>1001907.0</td>\n",
       "    </tr>\n",
       "  </tbody>\n",
       "</table>\n",
       "<p>425450 rows × 5 columns</p>\n",
       "</div>"
      ],
      "text/plain": [
       "                                     user_id                  datetime  \\\n",
       "236344  8FEC37F2-1D02-4FF8-B2E5-00C5A599A73C 2018-01-10 06:30:02+00:00   \n",
       "190956  734182BD-6489-474E-8A28-51962DBADCA2 2018-01-16 20:53:23+00:00   \n",
       "356304  E4F51109-78AA-4A19-A7A3-404FBC45B160 2018-01-17 08:14:22+00:00   \n",
       "356303  E4F51109-78AA-4A19-A7A3-404FBC45B160 2018-01-17 08:09:22+00:00   \n",
       "190949  734182BD-6489-474E-8A28-51962DBADCA2 2018-01-16 16:15:01+00:00   \n",
       "...                                      ...                       ...   \n",
       "420451  f0a8244b-ecf8-4a9a-94b1-fd049ada1a9a 2018-01-08 15:28:34+00:00   \n",
       "98044   39d148db-6f50-4cbc-89be-f261e433b22d 2018-01-08 13:24:19+00:00   \n",
       "87421   33fe76d3-9231-4dd7-859b-a2a7c22b99bc 2018-01-08 07:14:57+00:00   \n",
       "262041  9F5AE33D-664A-4029-B244-4C46135BA4FD 2018-01-08 03:40:29+00:00   \n",
       "241821  921954D0-D14C-43C7-957B-76B831F22322 2018-01-08 05:21:11+00:00   \n",
       "\n",
       "              lat       lon   duration  \n",
       "236344  51.502245 -0.112207      300.0  \n",
       "190956  51.487955 -0.076645      300.0  \n",
       "356304  51.493157 -0.100828      300.0  \n",
       "356303  51.503586 -0.105272      300.0  \n",
       "190949  51.490133 -0.111199      300.0  \n",
       "...           ...       ...        ...  \n",
       "420451  51.505303 -0.089131   972946.0  \n",
       "98044   51.500416 -0.077395   976269.0  \n",
       "87421   51.503871 -0.085641   992200.0  \n",
       "262041  51.506220 -0.114815   994402.0  \n",
       "241821  51.504437 -0.113565  1001907.0  \n",
       "\n",
       "[425450 rows x 5 columns]"
      ]
     },
     "execution_count": 164,
     "metadata": {},
     "output_type": "execute_result"
    }
   ],
   "source": [
    "dwell_df.sort_values(by=[\"duration\"])"
   ]
  },
  {
   "cell_type": "code",
   "execution_count": 165,
   "id": "61eb2ac2",
   "metadata": {},
   "outputs": [
    {
     "data": {
      "text/html": [
       "<div>\n",
       "<style scoped>\n",
       "    .dataframe tbody tr th:only-of-type {\n",
       "        vertical-align: middle;\n",
       "    }\n",
       "\n",
       "    .dataframe tbody tr th {\n",
       "        vertical-align: top;\n",
       "    }\n",
       "\n",
       "    .dataframe thead th {\n",
       "        text-align: right;\n",
       "    }\n",
       "</style>\n",
       "<table border=\"1\" class=\"dataframe\">\n",
       "  <thead>\n",
       "    <tr style=\"text-align: right;\">\n",
       "      <th></th>\n",
       "      <th>lat</th>\n",
       "      <th>lon</th>\n",
       "      <th>duration</th>\n",
       "    </tr>\n",
       "  </thead>\n",
       "  <tbody>\n",
       "    <tr>\n",
       "      <th>count</th>\n",
       "      <td>425450.000000</td>\n",
       "      <td>425450.000000</td>\n",
       "      <td>4.254500e+05</td>\n",
       "    </tr>\n",
       "    <tr>\n",
       "      <th>mean</th>\n",
       "      <td>51.499355</td>\n",
       "      <td>-0.098014</td>\n",
       "      <td>4.983198e+04</td>\n",
       "    </tr>\n",
       "    <tr>\n",
       "      <th>std</th>\n",
       "      <td>0.006262</td>\n",
       "      <td>0.012863</td>\n",
       "      <td>1.038109e+05</td>\n",
       "    </tr>\n",
       "    <tr>\n",
       "      <th>min</th>\n",
       "      <td>51.482489</td>\n",
       "      <td>-0.121340</td>\n",
       "      <td>3.000000e+02</td>\n",
       "    </tr>\n",
       "    <tr>\n",
       "      <th>25%</th>\n",
       "      <td>51.494984</td>\n",
       "      <td>-0.110374</td>\n",
       "      <td>4.980000e+02</td>\n",
       "    </tr>\n",
       "    <tr>\n",
       "      <th>50%</th>\n",
       "      <td>51.501739</td>\n",
       "      <td>-0.098405</td>\n",
       "      <td>1.695000e+03</td>\n",
       "    </tr>\n",
       "    <tr>\n",
       "      <th>75%</th>\n",
       "      <td>51.504235</td>\n",
       "      <td>-0.086474</td>\n",
       "      <td>5.070700e+04</td>\n",
       "    </tr>\n",
       "    <tr>\n",
       "      <th>max</th>\n",
       "      <td>51.506643</td>\n",
       "      <td>-0.076408</td>\n",
       "      <td>1.001907e+06</td>\n",
       "    </tr>\n",
       "  </tbody>\n",
       "</table>\n",
       "</div>"
      ],
      "text/plain": [
       "                 lat            lon      duration\n",
       "count  425450.000000  425450.000000  4.254500e+05\n",
       "mean       51.499355      -0.098014  4.983198e+04\n",
       "std         0.006262       0.012863  1.038109e+05\n",
       "min        51.482489      -0.121340  3.000000e+02\n",
       "25%        51.494984      -0.110374  4.980000e+02\n",
       "50%        51.501739      -0.098405  1.695000e+03\n",
       "75%        51.504235      -0.086474  5.070700e+04\n",
       "max        51.506643      -0.076408  1.001907e+06"
      ]
     },
     "execution_count": 165,
     "metadata": {},
     "output_type": "execute_result"
    }
   ],
   "source": [
    "dwell_df.describe()"
   ]
  },
  {
   "cell_type": "code",
   "execution_count": 167,
   "id": "7a75deb7",
   "metadata": {},
   "outputs": [
    {
     "data": {
      "text/plain": [
       "2127250"
      ]
     },
     "execution_count": 167,
     "metadata": {},
     "output_type": "execute_result"
    }
   ],
   "source": [
    "dwell_df.size"
   ]
  },
  {
   "cell_type": "code",
   "execution_count": 168,
   "id": "f3c61e9b",
   "metadata": {},
   "outputs": [
    {
     "data": {
      "text/plain": [
       "435771D7-6329-4664-8C4A-C1366A1CDDB0    3430\n",
       "1f1e1735-9e08-4981-b83f-6f910622f982    1670\n",
       "57e5b56c-18bc-4f50-a66b-f9f625ea3b64    1391\n",
       "2051c18f-d6a7-41f4-96bb-1659f2f8ef4f    1244\n",
       "39fc7ed0-8f1b-43ee-9837-1a6ed1a011ff    1221\n",
       "                                        ... \n",
       "3FF65AA3-56DD-49FB-8012-5D1BC41DFDCF      20\n",
       "78f5755e-65f5-443b-b580-44f617b460e7      20\n",
       "10623309-43D6-4618-8AE5-221A37857D7A      20\n",
       "F22B9BEB-A3CD-4128-B207-DD4073DAE9E5      20\n",
       "E26071B9-E569-4B7E-8871-7DBDDFEF1007      20\n",
       "Name: user_id, Length: 31606, dtype: int64"
      ]
     },
     "execution_count": 168,
     "metadata": {},
     "output_type": "execute_result"
    }
   ],
   "source": [
    "df['user_id'].value_counts()"
   ]
  },
  {
   "cell_type": "markdown",
   "id": "b72b5c75",
   "metadata": {},
   "source": [
    "# Distribution of indivudual dwell duration (more than 5000s) data"
   ]
  },
  {
   "cell_type": "code",
   "execution_count": 183,
   "id": "2c1031e3",
   "metadata": {},
   "outputs": [],
   "source": [
    "dw_df = dwell_df[dwell_df['duration'] >= 5000]"
   ]
  },
  {
   "cell_type": "code",
   "execution_count": 184,
   "id": "98b69286",
   "metadata": {
    "scrolled": true
   },
   "outputs": [
    {
     "data": {
      "image/png": "[encoded data removed]",
      "text/plain": [
       "<Figure size 1000x600 with 1 Axes>"
      ]
     },
     "metadata": {},
     "output_type": "display_data"
    }
   ],
   "source": [
    "plt.figure(figsize=(10, 6))\n",
    "sns.histplot(dw_df['duration'], kde=True)  # `kde` adds a Kernel Density Estimate plot\n",
    "plt.title('Distribution of indivudual dwell duration')\n",
    "plt.xlabel('Dwell Duration (in seconds)')\n",
    "plt.ylabel('Frequency')\n",
    "plt.show()"
   ]
  },
  {
   "cell_type": "code",
   "execution_count": null,
   "id": "1bd6d9ca",
   "metadata": {},
   "outputs": [],
   "source": []
  }
 ],
 "metadata": {
  "kernelspec": {
   "display_name": "Python 3 (ipykernel)",
   "language": "python",
   "name": "python3"
  },
  "language_info": {
   "codemirror_mode": {
    "name": "ipython",
    "version": 3
   },
   "file_extension": ".py",
   "mimetype": "text/x-python",
   "name": "python",
   "nbconvert_exporter": "python",
   "pygments_lexer": "ipython3",
   "version": "3.11.5"
  }
 },
 "nbformat": 4,
 "nbformat_minor": 5
}
